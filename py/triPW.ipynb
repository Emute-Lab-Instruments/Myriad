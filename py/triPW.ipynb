{
 "cells": [
  {
   "cell_type": "code",
   "execution_count": 1,
   "id": "bc123366-bb40-44ea-9c6e-d4013c420cd8",
   "metadata": {},
   "outputs": [
    {
     "name": "stdout",
     "output_type": "stream",
     "text": [
      "%pylab is deprecated, use %matplotlib inline and import the required libraries.\n",
      "Populating the interactive namespace from numpy and matplotlib\n"
     ]
    }
   ],
   "source": [
    "%pylab inline"
   ]
  },
  {
   "cell_type": "code",
   "execution_count": 2,
   "id": "9f79519b-6cc4-4e13-9e61-7eea2644baae",
   "metadata": {},
   "outputs": [
    {
     "data": {
      "text/plain": [
       "[327680, 36408, 3276, 999]"
      ]
     },
     "execution_count": 2,
     "metadata": {},
     "output_type": "execute_result"
    }
   ],
   "source": [
    "wavelen = 10000\n",
    "x = arange(wavelen)\n",
    "gradRising = 10\n",
    "gradRisingInv = int((1/gradRising) * 32768)\n",
    "triPeakPoint = (wavelen * gradRisingInv) >> 15\n",
    "gradFalling = ((1/(1 - (1/gradRising))))\n",
    "gradRising = int(gradRising * 32768)\n",
    "gradFalling = int(gradFalling * 32768)\n",
    "[gradRising, gradFalling, gradRisingInv, triPeakPoint]"
   ]
  },
  {
   "cell_type": "code",
   "execution_count": 10,
   "id": "498497c5-6763-46b7-a832-bbb38a800d3a",
   "metadata": {},
   "outputs": [],
   "source": [
    "y = zeros_like(x)\n",
    "for i in range(len(x)):\n",
    "    v = x[i]\n",
    "    if (i < triPeakPoint):\n",
    "        v = (v * gradRising) >> 15\n",
    "    else:\n",
    "        v = wavelen - (int((v-triPeakPoint) * gradRising) >> 15)\n",
    "        if v<0:\n",
    "            v=0\n",
    "    y[i] = v\n",
    "    "
   ]
  },
  {
   "cell_type": "code",
   "execution_count": 11,
   "id": "7bef2a69-a5c2-4513-8db0-b226bc3e091f",
   "metadata": {},
   "outputs": [
    {
     "data": {
      "text/plain": [
       "[<matplotlib.lines.Line2D at 0x7965d5b1bda0>]"
      ]
     },
     "execution_count": 11,
     "metadata": {},
     "output_type": "execute_result"
    },
    {
     "data": {
      "image/png": "[encoded data removed]",
      "text/plain": [
       "<Figure size 640x480 with 1 Axes>"
      ]
     },
     "metadata": {},
     "output_type": "display_data"
    }
   ],
   "source": [
    "plot(y)"
   ]
  },
  {
   "cell_type": "code",
   "execution_count": 101,
   "id": "af31ee8d-1a37-4173-99d6-28a6f4971c3f",
   "metadata": {},
   "outputs": [
    {
     "data": {
      "text/plain": [
       "147456000000"
      ]
     },
     "execution_count": 101,
     "metadata": {},
     "output_type": "execute_result"
    }
   ],
   "source": [
    "int(3000000*(1.5 * 32768))"
   ]
  },
  {
   "cell_type": "code",
   "execution_count": 108,
   "id": "0024538e-f1c9-4833-b4d3-98d216c9d4dd",
   "metadata": {},
   "outputs": [
    {
     "data": {
      "text/plain": [
       "True"
      ]
     },
     "execution_count": 108,
     "metadata": {},
     "output_type": "execute_result"
    }
   ],
   "source": [
    "147456000000 >pow(2,32)"
   ]
  },
  {
   "cell_type": "code",
   "execution_count": 107,
   "id": "cd333cb2-6e9f-42f5-98af-921343beb905",
   "metadata": {},
   "outputs": [
    {
     "data": {
      "text/plain": [
       "4294967296"
      ]
     },
     "execution_count": 107,
     "metadata": {},
     "output_type": "execute_result"
    }
   ],
   "source": [
    "pow(2,32)"
   ]
  },
  {
   "cell_type": "code",
   "execution_count": null,
   "id": "b32b3d32-d639-4801-8e36-1ab522f0a2d1",
   "metadata": {},
   "outputs": [],
   "source": []
  }
 ],
 "metadata": {
  "kernelspec": {
   "display_name": "Python 3 (ipykernel)",
   "language": "python",
   "name": "python3"
  },
  "language_info": {
   "codemirror_mode": {
    "name": "ipython",
    "version": 3
   },
   "file_extension": ".py",
   "mimetype": "text/x-python",
   "name": "python",
   "nbconvert_exporter": "python",
   "pygments_lexer": "ipython3",
   "version": "3.12.4"
  }
 },
 "nbformat": 4,
 "nbformat_minor": 5
}
