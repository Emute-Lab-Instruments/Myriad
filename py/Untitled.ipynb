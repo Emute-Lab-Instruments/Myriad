{
 "cells": [
  {
   "cell_type": "code",
   "execution_count": 3,
   "id": "e9e86581-8090-40a8-8b7e-e5178ce5c75a",
   "metadata": {},
   "outputs": [
    {
     "name": "stdout",
     "output_type": "stream",
     "text": [
      "%pylab is deprecated, use %matplotlib inline and import the required libraries.\n",
      "Populating the interactive namespace from numpy and matplotlib\n"
     ]
    }
   ],
   "source": [
    "%pylab inline"
   ]
  },
  {
   "cell_type": "code",
   "execution_count": 4,
   "id": "6680e6bf-66ad-4200-8008-713d8bce3e7f",
   "metadata": {},
   "outputs": [],
   "source": [
    "\n",
    "x = np.array([0.18181818181818, 0.018181818181818, 0.16363636363636, 0.036363636363636, 0.14545454545455, 0.054545454545455, 0.12727272727273, 0.072727272727273, 0.10909090909091, 0.090909090909091])\n"
   ]
  },
  {
   "cell_type": "code",
   "execution_count": 9,
   "id": "2b943288-fe34-4f1a-85eb-591b2e78d110",
   "metadata": {},
   "outputs": [
    {
     "data": {
      "text/plain": [
       "0.19999999999999798"
      ]
     },
     "execution_count": 9,
     "metadata": {},
     "output_type": "execute_result"
    }
   ],
   "source": [
    "sum(x[:2])\n"
   ]
  },
  {
   "cell_type": "code",
   "execution_count": 8,
   "id": "64af5a92-bb3d-4464-9966-2a92e3a208e1",
   "metadata": {},
   "outputs": [
    {
     "data": {
      "text/plain": [
       "5.50000000055"
      ]
     },
     "execution_count": 8,
     "metadata": {},
     "output_type": "execute_result"
    }
   ],
   "source": [
    "1/0.1818181818"
   ]
  }
 ],
 "metadata": {
  "kernelspec": {
   "display_name": "Python 3 (ipykernel)",
   "language": "python",
   "name": "python3"
  },
  "language_info": {
   "codemirror_mode": {
    "name": "ipython",
    "version": 3
   },
   "file_extension": ".py",
   "mimetype": "text/x-python",
   "name": "python",
   "nbconvert_exporter": "python",
   "pygments_lexer": "ipython3",
   "version": "3.12.4"
  }
 },
 "nbformat": 4,
 "nbformat_minor": 5
}
