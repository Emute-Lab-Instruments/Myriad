{
 "cells": [
  {
   "cell_type": "code",
   "execution_count": 8,
   "id": "bc04b7a6-42c2-4ba2-8045-dc39bd1a27e0",
   "metadata": {},
   "outputs": [
    {
     "name": "stdout",
     "output_type": "stream",
     "text": [
      "%pylab is deprecated, use %matplotlib inline and import the required libraries.\n",
      "Populating the interactive namespace from numpy and matplotlib\n"
     ]
    }
   ],
   "source": [
    "%pylab inline"
   ]
  },
  {
   "cell_type": "code",
   "execution_count": 9,
   "id": "1f2e4ab8-19f7-4359-b0f3-25116114430b",
   "metadata": {},
   "outputs": [],
   "source": [
    "import math"
   ]
  },
  {
   "cell_type": "code",
   "execution_count": 15,
   "id": "476feb92-b737-4e17-a62e-79eda5b45c0c",
   "metadata": {},
   "outputs": [
    {
     "data": {
      "text/plain": [
       "3.141592653589793"
      ]
     },
     "execution_count": 15,
     "metadata": {},
     "output_type": "execute_result"
    }
   ],
   "source": [
    "math.pi"
   ]
  },
  {
   "cell_type": "code",
   "execution_count": 21,
   "id": "cbbad61e-74cc-4c57-8a24-4fea12fdc781",
   "metadata": {},
   "outputs": [],
   "source": [
    "x=arange(1024) /1024 * (math.pi+math.pi)"
   ]
  },
  {
   "cell_type": "code",
   "execution_count": 25,
   "id": "2fc570a9-8ebf-4e26-80ea-3a7aa47665c4",
   "metadata": {},
   "outputs": [],
   "source": [
    "y = np.sin(x)"
   ]
  },
  {
   "cell_type": "code",
   "execution_count": null,
   "id": "c46b2144-95b3-4ad5-bd39-032131d427f7",
   "metadata": {},
   "outputs": [],
   "source": []
  },
  {
   "cell_type": "code",
   "execution_count": 28,
   "id": "57026f5e-a3b9-4380-bd52-47617ff61aa9",
   "metadata": {},
   "outputs": [],
   "source": [
    "import pyperclip"
   ]
  },
  {
   "cell_type": "code",
   "execution_count": 33,
   "id": "c517a7e5-536b-4593-8bc5-348d16129fcb",
   "metadata": {},
   "outputs": [],
   "source": [
    "pyperclip.copy(y.tolist())"
   ]
  },
  {
   "cell_type": "code",
   "execution_count": 36,
   "id": "c1833988-e531-4b90-b9f4-be4bb2ae0c8b",
   "metadata": {},
   "outputs": [
    {
     "data": {
      "text/plain": [
       "6.283185307179586"
      ]
     },
     "execution_count": 36,
     "metadata": {},
     "output_type": "execute_result"
    }
   ],
   "source": [
    "math.pi + math.pi"
   ]
  },
  {
   "cell_type": "code",
   "execution_count": 37,
   "id": "a5cfe3f0-4269-4780-b098-25652d52b4e0",
   "metadata": {},
   "outputs": [
    {
     "data": {
      "text/plain": [
       "1.5707963267948966"
      ]
     },
     "execution_count": 37,
     "metadata": {},
     "output_type": "execute_result"
    }
   ],
   "source": [
    "math.pi/2"
   ]
  },
  {
   "cell_type": "code",
   "execution_count": null,
   "id": "013baee3-174c-46ba-9016-1ffca23a9b87",
   "metadata": {},
   "outputs": [],
   "source": []
  }
 ],
 "metadata": {
  "kernelspec": {
   "display_name": "Python 3 (ipykernel)",
   "language": "python",
   "name": "python3"
  },
  "language_info": {
   "codemirror_mode": {
    "name": "ipython",
    "version": 3
   },
   "file_extension": ".py",
   "mimetype": "text/x-python",
   "name": "python",
   "nbconvert_exporter": "python",
   "pygments_lexer": "ipython3",
   "version": "3.12.4"
  }
 },
 "nbformat": 4,
 "nbformat_minor": 5
}
